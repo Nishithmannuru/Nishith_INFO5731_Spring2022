{
  "cells": [
    {
      "cell_type": "markdown",
      "metadata": {
        "id": "view-in-github",
        "colab_type": "text"
      },
      "source": [
        "<a href=\"https://colab.research.google.com/github/Nishithmannuru/Nishith_INFO5731_Spring2022/blob/main/In_class_exercise_03_1.ipynb\" target=\"_parent\"><img src=\"https://colab.research.google.com/assets/colab-badge.svg\" alt=\"Open In Colab\"/></a>"
      ]
    },
    {
      "cell_type": "markdown",
      "metadata": {
        "id": "MQjkVPjrnZVD"
      },
      "source": [
        "## The third In-class-exercise (02/08/2022, 40 points in total)"
      ]
    },
    {
      "cell_type": "markdown",
      "metadata": {
        "id": "29KEkLGAnZVH"
      },
      "source": [
        "The purpose of this exercise is to under users' information needs, then collect the data for analysis."
      ]
    },
    {
      "cell_type": "markdown",
      "metadata": {
        "id": "8F5jW1cznZVI"
      },
      "source": [
        "Question 1 (8 points): Describe an interesting research question (or practical question) you have in mind, what kind of data should be collected to answer the question(s)? How many data needed for the analysis? The detail steps for collecting and save the data. "
      ]
    },
    {
      "cell_type": "code",
      "execution_count": null,
      "metadata": {
        "id": "BylFrobxnZVI"
      },
      "outputs": [],
      "source": [
        "# Your answer here (no code for this question, write down your answer as detail as possible for the above questions):\n",
        "\n",
        "'''\n",
        "\n",
        "QUESTION:\n",
        "What are the populations of different cities in Texas in 2021?\n",
        "\n",
        "Source of data : https://worldpopulationreview.com/states/cities/texas\n",
        "\n",
        "\n",
        "I scraped data from the World Population website using the BeautifulSoup library's find(URL) function and the \"prettify\" function for the HTML page. \n",
        "Then I scraped the table present in the link, i.e., it represents top 500 cities in Texas based on their population. \n",
        "After Extracting the information I have saved the results into a dataframe.\n",
        "\n",
        "\n",
        "'''"
      ]
    },
    {
      "cell_type": "markdown",
      "metadata": {
        "id": "iV0HlKpcnZVI"
      },
      "source": [
        "Question 2 (12 points): Write python code to collect 500 items of the data you plan to collect above."
      ]
    },
    {
      "cell_type": "code",
      "execution_count": null,
      "metadata": {
        "id": "jHpBx9JqnZVJ"
      },
      "outputs": [],
      "source": [
        "import pandas as pd\n",
        "import requests\n",
        "import urllib.request as ur\n",
        "Pop = \"https://worldpopulationreview.com/states/cities/texas\"\n",
        "page = ur.urlopen(Pop)\n",
        "from bs4 import BeautifulSoup as bs\n",
        "soup = bs(page)\n",
        "print(soup.prettify())\n",
        "soup.a\n",
        "soup.find_all(\"a\")\n",
        "\n",
        "\n",
        "\n"
      ]
    },
    {
      "cell_type": "code",
      "execution_count": null,
      "metadata": {
        "id": "6gcVVqKjnmKf"
      },
      "outputs": [],
      "source": [
        "Population = soup.find(class_=\"jsx-2642336383 table-container\")\n",
        "print(Population)\n",
        "\n",
        "\n",
        "Pop_data = []\n",
        "\n",
        "for data in Population.findAll(\"tr\"):\n",
        "    cells = data.findAll('td')\n",
        "    states=data.findAll('th')\n",
        "    if len(cells)==6:\n",
        "        item = []\n",
        "        item.append(cells[0].find(text=True).strip(\"\\n\"))\n",
        "        item.append(cells[1].find(text=True).strip(\"\\n\"))\n",
        "        item.append(cells[2].find(text=True).strip(\"\\n\"))\n",
        "        item.append(cells[3].find(text=True).strip(\"\\n\"))\n",
        "        item.append(cells[4].find(text=True).strip(\"\\n\"))\n",
        "        item.append(cells[5].find(text=True).strip(\"\\n\"))\n",
        "        Pop_data.append(item)\n",
        "print(Pop_data)\n",
        "\n",
        "Pop_new = []\n",
        "\n",
        "Titles = ['Rank','City Name','2021 Population ','2010 Census','Change','Density']\n",
        "for record in Pop_data:\n",
        "    record_dict = dict(zip(Titles ,record))\n",
        "    Pop_new.append(record_dict)\n",
        "print(Pop_new)"
      ]
    },
    {
      "cell_type": "code",
      "execution_count": null,
      "metadata": {
        "colab": {
          "base_uri": "https://localhost:8080/",
          "height": 419
        },
        "id": "SxeKniS_o4aR",
        "outputId": "f4471ba0-3a03-4876-9d96-4bcd4667e026"
      },
      "outputs": [
        {
          "data": {
            "text/html": [
              "<div>\n",
              "<style scoped>\n",
              "    .dataframe tbody tr th:only-of-type {\n",
              "        vertical-align: middle;\n",
              "    }\n",
              "\n",
              "    .dataframe tbody tr th {\n",
              "        vertical-align: top;\n",
              "    }\n",
              "\n",
              "    .dataframe thead th {\n",
              "        text-align: right;\n",
              "    }\n",
              "</style>\n",
              "<table border=\"1\" class=\"dataframe\">\n",
              "  <thead>\n",
              "    <tr style=\"text-align: right;\">\n",
              "      <th></th>\n",
              "      <th>Rank</th>\n",
              "      <th>City Name</th>\n",
              "      <th>2021 Population</th>\n",
              "      <th>2010 Census</th>\n",
              "      <th>Change</th>\n",
              "      <th>Density</th>\n",
              "    </tr>\n",
              "  </thead>\n",
              "  <tbody>\n",
              "    <tr>\n",
              "      <th>0</th>\n",
              "      <td>1</td>\n",
              "      <td>Houston</td>\n",
              "      <td>2,323,660</td>\n",
              "      <td>2,100,280</td>\n",
              "      <td>10.64%</td>\n",
              "      <td>541</td>\n",
              "    </tr>\n",
              "    <tr>\n",
              "      <th>1</th>\n",
              "      <td>2</td>\n",
              "      <td>San Antonio</td>\n",
              "      <td>1,581,730</td>\n",
              "      <td>1,332,300</td>\n",
              "      <td>18.72%</td>\n",
              "      <td>486</td>\n",
              "    </tr>\n",
              "    <tr>\n",
              "      <th>2</th>\n",
              "      <td>3</td>\n",
              "      <td>Dallas</td>\n",
              "      <td>1,347,120</td>\n",
              "      <td>1,200,350</td>\n",
              "      <td>12.23%</td>\n",
              "      <td>591</td>\n",
              "    </tr>\n",
              "    <tr>\n",
              "      <th>3</th>\n",
              "      <td>4</td>\n",
              "      <td>Austin</td>\n",
              "      <td>1,011,790</td>\n",
              "      <td>806,164</td>\n",
              "      <td>25.51%</td>\n",
              "      <td>471</td>\n",
              "    </tr>\n",
              "    <tr>\n",
              "      <th>4</th>\n",
              "      <td>5</td>\n",
              "      <td>Fort Worth</td>\n",
              "      <td>942,323</td>\n",
              "      <td>748,441</td>\n",
              "      <td>25.90%</td>\n",
              "      <td>406</td>\n",
              "    </tr>\n",
              "    <tr>\n",
              "      <th>...</th>\n",
              "      <td>...</td>\n",
              "      <td>...</td>\n",
              "      <td>...</td>\n",
              "      <td>...</td>\n",
              "      <td>...</td>\n",
              "      <td>...</td>\n",
              "    </tr>\n",
              "    <tr>\n",
              "      <th>495</th>\n",
              "      <td>496</td>\n",
              "      <td>Clyde</td>\n",
              "      <td>3,811</td>\n",
              "      <td>3,691</td>\n",
              "      <td>3.25%</td>\n",
              "      <td>173</td>\n",
              "    </tr>\n",
              "    <tr>\n",
              "      <th>496</th>\n",
              "      <td>497</td>\n",
              "      <td>Barrett</td>\n",
              "      <td>3,807</td>\n",
              "      <td>3,199</td>\n",
              "      <td>19.01%</td>\n",
              "      <td>89</td>\n",
              "    </tr>\n",
              "    <tr>\n",
              "      <th>497</th>\n",
              "      <td>498</td>\n",
              "      <td>Presidio</td>\n",
              "      <td>3,748</td>\n",
              "      <td>4,466</td>\n",
              "      <td>-16.08%</td>\n",
              "      <td>217</td>\n",
              "    </tr>\n",
              "    <tr>\n",
              "      <th>498</th>\n",
              "      <td>499</td>\n",
              "      <td>West Columbia</td>\n",
              "      <td>3,746</td>\n",
              "      <td>3,894</td>\n",
              "      <td>-3.80%</td>\n",
              "      <td>223</td>\n",
              "    </tr>\n",
              "    <tr>\n",
              "      <th>499</th>\n",
              "      <td>500</td>\n",
              "      <td>Crane</td>\n",
              "      <td>3,740</td>\n",
              "      <td>3,353</td>\n",
              "      <td>11.54%</td>\n",
              "      <td>539</td>\n",
              "    </tr>\n",
              "  </tbody>\n",
              "</table>\n",
              "<p>500 rows × 6 columns</p>\n",
              "</div>"
            ],
            "text/plain": [
              "    Rank      City Name 2021 Population  2010 Census   Change Density\n",
              "0      1        Houston        2,323,660   2,100,280   10.64%     541\n",
              "1      2    San Antonio        1,581,730   1,332,300   18.72%     486\n",
              "2      3         Dallas        1,347,120   1,200,350   12.23%     591\n",
              "3      4         Austin        1,011,790     806,164   25.51%     471\n",
              "4      5     Fort Worth          942,323     748,441   25.90%     406\n",
              "..   ...            ...              ...         ...      ...     ...\n",
              "495  496          Clyde            3,811       3,691    3.25%     173\n",
              "496  497        Barrett            3,807       3,199   19.01%      89\n",
              "497  498       Presidio            3,748       4,466  -16.08%     217\n",
              "498  499  West Columbia            3,746       3,894   -3.80%     223\n",
              "499  500          Crane            3,740       3,353   11.54%     539\n",
              "\n",
              "[500 rows x 6 columns]"
            ]
          },
          "execution_count": 24,
          "metadata": {
            "tags": []
          },
          "output_type": "execute_result"
        }
      ],
      "source": [
        "import pandas as pd\n",
        "\n",
        "Y=pd.DataFrame(Pop_new)\n",
        "Y"
      ]
    },
    {
      "cell_type": "code",
      "execution_count": null,
      "metadata": {
        "id": "nVvcygFUmXMg"
      },
      "outputs": [],
      "source": [
        ""
      ]
    },
    {
      "cell_type": "markdown",
      "metadata": {
        "id": "snfAqxxXmXMg"
      },
      "source": [
        "Question 3 (10 points): Write python code to collect 1000 articles from Google Scholar (https://scholar.google.com/), Microsoft Academic (https://academic.microsoft.com/home), or CiteSeerX (https://citeseerx.ist.psu.edu/index), or Semantic Scholar (https://www.semanticscholar.org/), or ACM Digital Libraries (https://dl.acm.org/) with the keyword \"information retrieval\". The articles should be published in the last 10 years (2012-2022).\n",
        "\n",
        "The following information of the article needs to be collected:\n",
        "\n",
        "(1) Title\n",
        "\n",
        "(2) Venue/journal/conference being published\n",
        "\n",
        "(3) Year\n",
        "\n",
        "(4) Authors\n",
        "\n",
        "(5) Abstract"
      ]
    },
    {
      "cell_type": "code",
      "execution_count": null,
      "metadata": {
        "id": "kTHTyrVgmXMg"
      },
      "outputs": [],
      "source": [
        "# You code here (Please add comments in the code):\n",
        "\n",
        "import urllib.request\n",
        "from bs4 import BeautifulSoup\n",
        "\n",
        "url = \"https://www.semanticscholar.org/paper/Information-Retrieval-Dekhtyar/72c58a58ba1684dc8337c8e64e0b5dacfc94499e?year%5B0%5D=2012&year%5B1%5D=2022&sort=relevance\"\n",
        "page = urllib.request.urlopen(url)\n",
        "soup = BeautifulSoup(page)\n",
        "#soup\n",
        "papers = soup.find(id = 'citing-papers')\n",
        "#print(papers)\n",
        "different_articles = papers.find_all(class_=\"cl-paper-row citation-list__paper-row\")\n",
        "first_article = different_articles[0]\n",
        "#print(first_article.prettify())"
      ]
    },
    {
      "cell_type": "code",
      "execution_count": null,
      "metadata": {
        "id": "0W9optr5mXMg",
        "outputId": "10a6fd27-6281-47bd-c853-02c621259692"
      },
      "outputs": [
        {
          "name": "stdout",
          "output_type": "stream",
          "text": [
            "An information-theoretic approach to automatic query expansion\n",
            "TOIS\n",
            "2001\n",
            "Claudio Carpineto, R. Mori, Giovanni Romano, B. Bigi\n",
            "TLDRThis work presents a computationally simple and theoretically justified method for assigning scores to candidate expansion terms within Rocchio's framework for query reweigthing, and discusses the effect on retrieval effectiveness of the main parameters involved in automatic query expansion. Expand\n"
          ]
        }
      ],
      "source": [
        "title = first_article.find(class_ = \"cl-paper-title\").get_text()\n",
        "published = first_article.find(class_ = \"cl-paper-venue\").get_text()\n",
        "year_published = first_article.find(class_ = \"cl-paper-pubdates\").get_text()\n",
        "authors = first_article.find(class_ = \"cl-paper-authors\").get_text()\n",
        "abstract = first_article.find(class_ = \"tldr-abstract-replacement text-truncator\").get_text()\n",
        "#abstract_full = first_article.find(class_=\"tldr-abstract__pill\")\n",
        "\n",
        "print(title)\n",
        "print(published)\n",
        "print(year_published)\n",
        "print(authors)\n",
        "print(abstract)\n",
        "#print(abstract_full)"
      ]
    },
    {
      "cell_type": "code",
      "execution_count": null,
      "metadata": {
        "id": "YjGQkUg4mXMh"
      },
      "outputs": [],
      "source": [
        ""
      ]
    },
    {
      "cell_type": "markdown",
      "metadata": {
        "id": "-iVTyA2ymXMh"
      },
      "source": [
        "Question 4 (10 points): Write python code to collect 1000 posts from Twitter, or Facebook, or Instagram. You can either use hashtags, keywords, user_name, user_id, or other information to collect the data. \n",
        "\n",
        "The following information needs to be collected:\n",
        "\n",
        "(1) User_name\n",
        "\n",
        "(2) Posted time\n",
        "\n",
        "(3) Text "
      ]
    },
    {
      "cell_type": "code",
      "execution_count": null,
      "metadata": {
        "id": "ez5J4UvamXMh",
        "outputId": "a21ecb3a-e03d-4a04-cb92-992f1b57a479"
      },
      "outputs": [
        {
          "name": "stdout",
          "output_type": "stream",
          "text": [
            "Requirement already satisfied: tweepy in c:\\users\\nishi\\anaconda3\\lib\\site-packages (4.5.0)\n",
            "Requirement already satisfied: requests<3,>=2.27.0 in c:\\users\\nishi\\anaconda3\\lib\\site-packages (from tweepy) (2.27.1)\n",
            "Requirement already satisfied: requests-oauthlib<2,>=1.0.0 in c:\\users\\nishi\\anaconda3\\lib\\site-packages (from tweepy) (1.3.1)\n",
            "Requirement already satisfied: charset-normalizer~=2.0.0; python_version >= \"3\" in c:\\users\\nishi\\anaconda3\\lib\\site-packages (from requests<3,>=2.27.0->tweepy) (2.0.11)\n",
            "Requirement already satisfied: urllib3<1.27,>=1.21.1 in c:\\users\\nishi\\anaconda3\\lib\\site-packages (from requests<3,>=2.27.0->tweepy) (1.26.8)\n",
            "Requirement already satisfied: certifi>=2017.4.17 in c:\\users\\nishi\\anaconda3\\lib\\site-packages (from requests<3,>=2.27.0->tweepy) (2020.6.20)\n",
            "Requirement already satisfied: idna<4,>=2.5; python_version >= \"3\" in c:\\users\\nishi\\anaconda3\\lib\\site-packages (from requests<3,>=2.27.0->tweepy) (2.10)\n",
            "Requirement already satisfied: oauthlib>=3.0.0 in c:\\users\\nishi\\anaconda3\\lib\\site-packages (from requests-oauthlib<2,>=1.0.0->tweepy) (3.2.0)\n"
          ]
        }
      ],
      "source": [
        "# You code here (Please add comments in the code):\n",
        "\n",
        "\n",
        "!pip install tweepy"
      ]
    },
    {
      "cell_type": "code",
      "execution_count": 1,
      "metadata": {
        "id": "XLW8z_DjmXMi"
      },
      "outputs": [],
      "source": [
        "import tweepy\n",
        "import pandas as pd\n",
        "\n",
        "consumer_key = \"IDLOCONcjBazinzkphfGn2Yc1\"\n",
        "consumer_secret = \"m8M1B5qJtk7i7XZ7OnkCcIMllFseLg1wA801EzGicCk6GYabiK\"\n",
        "access_token = \"1441930201496125440-5FW4WQmBq60NrmegbarcnX1if69cT4\"\n",
        "access_token_secret = \"R1kevmRqCy3nOTfznLFRJUn2Z7A61a8a3QQUhyFMTcvbc\""
      ]
    },
    {
      "cell_type": "code",
      "source": [
        "auth = tweepy.OAuthHandler(consumer_key, consumer_secret)\n",
        "auth.set_access_token(access_token, access_token_secret)\n",
        "api = tweepy.API(auth)"
      ],
      "metadata": {
        "id": "Amre774smeUt"
      },
      "execution_count": 2,
      "outputs": []
    },
    {
      "cell_type": "code",
      "source": [
        "import warnings\n",
        "warnings.filterwarnings(\"ignore\")\n",
        "number_of_tweets = 1500\n",
        "username = []\n",
        "posted_time = []\n",
        "tweets = []\n",
        "\n",
        "for i in tweepy.Cursor(api.search, q = \"Covid-19\", lang = \"en\", tweet_mode = \"extended\").items(number_of_tweets):\n",
        "    tweets.append(i.full_text)\n",
        "    username.append(i.user.name)\n",
        "    posted_time.append(i.created_at)\n",
        "\n",
        "data = {'UserName':username, \"Time Posted\": posted_time, \"Text\": tweets}\n",
        "\n",
        "df = pd.DataFrame(data = data)"
      ],
      "metadata": {
        "id": "jaaBvozumiSI"
      },
      "execution_count": 4,
      "outputs": []
    },
    {
      "cell_type": "code",
      "source": [
        "df"
      ],
      "metadata": {
        "colab": {
          "base_uri": "https://localhost:8080/",
          "height": 423
        },
        "id": "u8SFVnlGm5xZ",
        "outputId": "318c3607-6d45-4b5e-92e8-dd4e0048d2a9"
      },
      "execution_count": 5,
      "outputs": [
        {
          "output_type": "execute_result",
          "data": {
            "text/html": [
              "\n",
              "  <div id=\"df-90083c84-8dd0-44a6-9593-466e2d560bdd\">\n",
              "    <div class=\"colab-df-container\">\n",
              "      <div>\n",
              "<style scoped>\n",
              "    .dataframe tbody tr th:only-of-type {\n",
              "        vertical-align: middle;\n",
              "    }\n",
              "\n",
              "    .dataframe tbody tr th {\n",
              "        vertical-align: top;\n",
              "    }\n",
              "\n",
              "    .dataframe thead th {\n",
              "        text-align: right;\n",
              "    }\n",
              "</style>\n",
              "<table border=\"1\" class=\"dataframe\">\n",
              "  <thead>\n",
              "    <tr style=\"text-align: right;\">\n",
              "      <th></th>\n",
              "      <th>UserName</th>\n",
              "      <th>Time Posted</th>\n",
              "      <th>Text</th>\n",
              "    </tr>\n",
              "  </thead>\n",
              "  <tbody>\n",
              "    <tr>\n",
              "      <th>0</th>\n",
              "      <td>Marty Haight - Time to get money out of politics!</td>\n",
              "      <td>2022-02-10 21:47:33</td>\n",
              "      <td>RT @NBCLA: Though Rare, COVID-19 Can Destroy t...</td>\n",
              "    </tr>\n",
              "    <tr>\n",
              "      <th>1</th>\n",
              "      <td>StrictlyChristo</td>\n",
              "      <td>2022-02-10 21:47:32</td>\n",
              "      <td>Heart-disease risk soars after COVID — even wi...</td>\n",
              "    </tr>\n",
              "    <tr>\n",
              "      <th>2</th>\n",
              "      <td>Reality in BC</td>\n",
              "      <td>2022-02-10 21:47:31</td>\n",
              "      <td>RT @RonaldNHughes: An average of one year afte...</td>\n",
              "    </tr>\n",
              "    <tr>\n",
              "      <th>3</th>\n",
              "      <td>Dreighton</td>\n",
              "      <td>2022-02-10 21:47:30</td>\n",
              "      <td>RT @Timcast: its not a simulation its a sitcom...</td>\n",
              "    </tr>\n",
              "    <tr>\n",
              "      <th>4</th>\n",
              "      <td>Pauline Johnson Public School - Home of the LIONS</td>\n",
              "      <td>2022-02-10 21:47:30</td>\n",
              "      <td>Grade 3 author and cartoonist Nolan has produc...</td>\n",
              "    </tr>\n",
              "    <tr>\n",
              "      <th>...</th>\n",
              "      <td>...</td>\n",
              "      <td>...</td>\n",
              "      <td>...</td>\n",
              "    </tr>\n",
              "    <tr>\n",
              "      <th>1495</th>\n",
              "      <td>ONC</td>\n",
              "      <td>2022-02-10 21:34:57</td>\n",
              "      <td>RT @CDCgov: Adults who were up to date on thei...</td>\n",
              "    </tr>\n",
              "    <tr>\n",
              "      <th>1496</th>\n",
              "      <td>manny</td>\n",
              "      <td>2022-02-10 21:34:55</td>\n",
              "      <td>RT @CP24: Poll: Nearly 30% of Canadians say it...</td>\n",
              "    </tr>\n",
              "    <tr>\n",
              "      <th>1497</th>\n",
              "      <td>🇨🇦 NOMAD 🇨🇦</td>\n",
              "      <td>2022-02-10 21:34:55</td>\n",
              "      <td>@Melissa99783783 @vintage831 I'm not a scienti...</td>\n",
              "    </tr>\n",
              "    <tr>\n",
              "      <th>1498</th>\n",
              "      <td>Lucia Ruggiero EALR</td>\n",
              "      <td>2022-02-10 21:34:54</td>\n",
              "      <td>RT @GlobalPHObserv: 5 ways to tackle ignorance...</td>\n",
              "    </tr>\n",
              "    <tr>\n",
              "      <th>1499</th>\n",
              "      <td>Peter Schechter</td>\n",
              "      <td>2022-02-10 21:34:53</td>\n",
              "      <td>Sweden rolls back large-scale availability on ...</td>\n",
              "    </tr>\n",
              "  </tbody>\n",
              "</table>\n",
              "<p>1500 rows × 3 columns</p>\n",
              "</div>\n",
              "      <button class=\"colab-df-convert\" onclick=\"convertToInteractive('df-90083c84-8dd0-44a6-9593-466e2d560bdd')\"\n",
              "              title=\"Convert this dataframe to an interactive table.\"\n",
              "              style=\"display:none;\">\n",
              "        \n",
              "  <svg xmlns=\"http://www.w3.org/2000/svg\" height=\"24px\"viewBox=\"0 0 24 24\"\n",
              "       width=\"24px\">\n",
              "    <path d=\"M0 0h24v24H0V0z\" fill=\"none\"/>\n",
              "    <path d=\"M18.56 5.44l.94 2.06.94-2.06 2.06-.94-2.06-.94-.94-2.06-.94 2.06-2.06.94zm-11 1L8.5 8.5l.94-2.06 2.06-.94-2.06-.94L8.5 2.5l-.94 2.06-2.06.94zm10 10l.94 2.06.94-2.06 2.06-.94-2.06-.94-.94-2.06-.94 2.06-2.06.94z\"/><path d=\"M17.41 7.96l-1.37-1.37c-.4-.4-.92-.59-1.43-.59-.52 0-1.04.2-1.43.59L10.3 9.45l-7.72 7.72c-.78.78-.78 2.05 0 2.83L4 21.41c.39.39.9.59 1.41.59.51 0 1.02-.2 1.41-.59l7.78-7.78 2.81-2.81c.8-.78.8-2.07 0-2.86zM5.41 20L4 18.59l7.72-7.72 1.47 1.35L5.41 20z\"/>\n",
              "  </svg>\n",
              "      </button>\n",
              "      \n",
              "  <style>\n",
              "    .colab-df-container {\n",
              "      display:flex;\n",
              "      flex-wrap:wrap;\n",
              "      gap: 12px;\n",
              "    }\n",
              "\n",
              "    .colab-df-convert {\n",
              "      background-color: #E8F0FE;\n",
              "      border: none;\n",
              "      border-radius: 50%;\n",
              "      cursor: pointer;\n",
              "      display: none;\n",
              "      fill: #1967D2;\n",
              "      height: 32px;\n",
              "      padding: 0 0 0 0;\n",
              "      width: 32px;\n",
              "    }\n",
              "\n",
              "    .colab-df-convert:hover {\n",
              "      background-color: #E2EBFA;\n",
              "      box-shadow: 0px 1px 2px rgba(60, 64, 67, 0.3), 0px 1px 3px 1px rgba(60, 64, 67, 0.15);\n",
              "      fill: #174EA6;\n",
              "    }\n",
              "\n",
              "    [theme=dark] .colab-df-convert {\n",
              "      background-color: #3B4455;\n",
              "      fill: #D2E3FC;\n",
              "    }\n",
              "\n",
              "    [theme=dark] .colab-df-convert:hover {\n",
              "      background-color: #434B5C;\n",
              "      box-shadow: 0px 1px 3px 1px rgba(0, 0, 0, 0.15);\n",
              "      filter: drop-shadow(0px 1px 2px rgba(0, 0, 0, 0.3));\n",
              "      fill: #FFFFFF;\n",
              "    }\n",
              "  </style>\n",
              "\n",
              "      <script>\n",
              "        const buttonEl =\n",
              "          document.querySelector('#df-90083c84-8dd0-44a6-9593-466e2d560bdd button.colab-df-convert');\n",
              "        buttonEl.style.display =\n",
              "          google.colab.kernel.accessAllowed ? 'block' : 'none';\n",
              "\n",
              "        async function convertToInteractive(key) {\n",
              "          const element = document.querySelector('#df-90083c84-8dd0-44a6-9593-466e2d560bdd');\n",
              "          const dataTable =\n",
              "            await google.colab.kernel.invokeFunction('convertToInteractive',\n",
              "                                                     [key], {});\n",
              "          if (!dataTable) return;\n",
              "\n",
              "          const docLinkHtml = 'Like what you see? Visit the ' +\n",
              "            '<a target=\"_blank\" href=https://colab.research.google.com/notebooks/data_table.ipynb>data table notebook</a>'\n",
              "            + ' to learn more about interactive tables.';\n",
              "          element.innerHTML = '';\n",
              "          dataTable['output_type'] = 'display_data';\n",
              "          await google.colab.output.renderOutput(dataTable, element);\n",
              "          const docLink = document.createElement('div');\n",
              "          docLink.innerHTML = docLinkHtml;\n",
              "          element.appendChild(docLink);\n",
              "        }\n",
              "      </script>\n",
              "    </div>\n",
              "  </div>\n",
              "  "
            ],
            "text/plain": [
              "                                               UserName  ...                                               Text\n",
              "0     Marty Haight - Time to get money out of politics!  ...  RT @NBCLA: Though Rare, COVID-19 Can Destroy t...\n",
              "1                                      StrictlyChristo  ...  Heart-disease risk soars after COVID — even wi...\n",
              "2                                         Reality in BC  ...  RT @RonaldNHughes: An average of one year afte...\n",
              "3                                             Dreighton  ...  RT @Timcast: its not a simulation its a sitcom...\n",
              "4     Pauline Johnson Public School - Home of the LIONS  ...  Grade 3 author and cartoonist Nolan has produc...\n",
              "...                                                 ...  ...                                                ...\n",
              "1495                                                ONC  ...  RT @CDCgov: Adults who were up to date on thei...\n",
              "1496                                              manny  ...  RT @CP24: Poll: Nearly 30% of Canadians say it...\n",
              "1497                                        🇨🇦 NOMAD 🇨🇦  ...  @Melissa99783783 @vintage831 I'm not a scienti...\n",
              "1498                                Lucia Ruggiero EALR  ...  RT @GlobalPHObserv: 5 ways to tackle ignorance...\n",
              "1499                                    Peter Schechter  ...  Sweden rolls back large-scale availability on ...\n",
              "\n",
              "[1500 rows x 3 columns]"
            ]
          },
          "metadata": {},
          "execution_count": 5
        }
      ]
    }
  ],
  "metadata": {
    "colab": {
      "collapsed_sections": [],
      "name": "In_class_exercise_03.1.ipynb",
      "provenance": [],
      "include_colab_link": true
    },
    "kernelspec": {
      "display_name": "Python 3",
      "language": "python",
      "name": "python3"
    },
    "language_info": {
      "codemirror_mode": {
        "name": "ipython",
        "version": 3
      },
      "file_extension": ".py",
      "mimetype": "text/x-python",
      "name": "python",
      "nbconvert_exporter": "python",
      "pygments_lexer": "ipython3",
      "version": "3.8.5"
    }
  },
  "nbformat": 4,
  "nbformat_minor": 0
}